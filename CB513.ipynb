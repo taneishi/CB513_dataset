{
 "cells": [
  {
   "cell_type": "markdown",
   "id": "652c0fca-b2c8-4d3c-88aa-83df5ae76905",
   "metadata": {},
   "source": [
    "# Protein Secondary Structure Prediction"
   ]
  },
  {
   "cell_type": "code",
   "execution_count": 148,
   "id": "b9e662cc-4c20-4e09-a5d6-fcd7b8a49029",
   "metadata": {},
   "outputs": [],
   "source": [
    "#!wget -c -P data http://www.princeton.edu/~jzthree/datasets/ICML2014/cullpdb+profile_5926_filtered.npy.gz\n",
    "#!wget -c -P data http://www.princeton.edu/~jzthree/datasets/ICML2014/cb513+profile_split1.npy.gz"
   ]
  },
  {
   "cell_type": "code",
   "execution_count": 6,
   "id": "2f3cdfc3-a776-4bea-a881-a81d6402de5d",
   "metadata": {},
   "outputs": [],
   "source": [
    "import pandas as pd\n",
    "import numpy as np\n",
    "import matplotlib.pyplot as plt\n",
    "import timeit\n",
    "import os"
   ]
  },
  {
   "cell_type": "code",
   "execution_count": 7,
   "id": "32e8219d-0c66-4b64-a931-c2fbad02c746",
   "metadata": {},
   "outputs": [],
   "source": [
    "train_path = 'cullpdb+profile_5926_filtered.npy.gz'\n",
    "test_path = 'cb513+profile_split1.npy.gz'"
   ]
  },
  {
   "cell_type": "code",
   "execution_count": 8,
   "id": "a7cf5e46-d74c-4904-9942-f19db2693dfb",
   "metadata": {},
   "outputs": [],
   "source": [
    "AA = ['A', 'C', 'E', 'D', 'G', 'F', 'I', 'H', 'K', 'M', 'L', 'N', 'Q', 'P', 'S', 'R', 'T', 'W', 'V', 'Y', 'X', 'NoSeq']\n",
    "SS = ['L', 'B', 'E', 'G', 'I', 'H', 'S', 'T', 'NoSeq']"
   ]
  },
  {
   "cell_type": "code",
   "execution_count": 9,
   "id": "65c7d762-3aaa-4e63-af94-570b7cd460bf",
   "metadata": {},
   "outputs": [],
   "source": [
    "def load(path):\n",
    "    data = np.load(f'data/{path}')\n",
    "    \n",
    "    # Original 57 features.\n",
    "    data = data.reshape(-1, 700, 57)\n",
    "\n",
    "    # 20-residues and a non-seq.\n",
    "    X = data[:, :, np.arange(21)]\n",
    "    X = X.transpose(0, 2, 1)\n",
    "    X = X.astype('float32')\n",
    "\n",
    "    # 8-states.\n",
    "    y = data[:, :, 22:30]\n",
    "    y = np.array([np.dot(yi, np.arange(8)) for yi in y])\n",
    "    y = y.astype('float32')\n",
    "    \n",
    "    mask = data[:, :, 30] * -1 + 1\n",
    "    seq_len = mask.sum(axis=1)\n",
    "    seq_len = seq_len.astype('int')\n",
    "    \n",
    "    return X, y, seq_len"
   ]
  },
  {
   "cell_type": "code",
   "execution_count": 10,
   "id": "becd8bea-3bcd-43c8-ae9d-7b047ae1d9b9",
   "metadata": {},
   "outputs": [
    {
     "name": "stdout",
     "output_type": "stream",
     "text": [
      "Training set 5365 sequences.\n",
      "Test set 514 sequences.\n"
     ]
    }
   ],
   "source": [
    "# Loading data.\n",
    "train_X, train_y, train_seq_len = load(train_path)\n",
    "print(f'Training set {len(train_seq_len)} sequences.')\n",
    "\n",
    "test_X, test_y, test_seq_len = load(test_path)\n",
    "print(f'Test set {len(test_seq_len)} sequences.')"
   ]
  },
  {
   "cell_type": "code",
   "execution_count": 138,
   "id": "c2694135-5ef1-4819-8153-c86eb16adc4a",
   "metadata": {},
   "outputs": [
    {
     "data": {
      "image/png": "[encoded data removed]",
      "text/plain": [
       "<Figure size 576x216 with 2 Axes>"
      ]
     },
     "metadata": {
      "needs_background": "light"
     },
     "output_type": "display_data"
    }
   ],
   "source": [
    "# Sequence Length.\n",
    "plt.figure(figsize=(8, 3))\n",
    "\n",
    "plt.subplot(1, 2, 1)\n",
    "plt.title('Training set')\n",
    "plt.hist(train_seq_len, bins=100)\n",
    "plt.grid(True, axis='y')\n",
    "\n",
    "plt.subplot(1, 2, 2)\n",
    "plt.title('Test set')\n",
    "plt.hist(test_seq_len, bins=100)\n",
    "plt.grid(True, axis='y')\n",
    "\n",
    "plt.tight_layout()\n",
    "plt.savefig('figure/seq_len.png', dpi=100)"
   ]
  },
  {
   "cell_type": "code",
   "execution_count": 142,
   "id": "4a269657-6f5d-4a0a-94d9-42fa8044959a",
   "metadata": {},
   "outputs": [
    {
     "data": {
      "image/png": "[encoded data removed]",
      "text/plain": [
       "<Figure size 576x216 with 2 Axes>"
      ]
     },
     "metadata": {
      "needs_background": "light"
     },
     "output_type": "display_data"
    }
   ],
   "source": [
    "# Amino Acid Residues.\n",
    "train_aa = []\n",
    "train_count = []\n",
    "for seq, seq_len in zip(train_X, train_seq_len):\n",
    "    seq_aa = []\n",
    "    for aa in seq[:, :seq_len].T:\n",
    "        assert len(np.where(aa == 1)) == 1\n",
    "        seq_aa.append(AA[aa.argmax()])\n",
    "    train_aa += seq_aa\n",
    "\n",
    "train_aa = pd.DataFrame(train_aa, columns=['AA'])\n",
    "train_aa = train_aa.groupby('AA').aggregate(count=('AA', 'size'))\n",
    "\n",
    "test_aa = []\n",
    "test_count = []\n",
    "for seq, seq_len in zip(test_X, test_seq_len):\n",
    "    seq_aa = []\n",
    "    for aa in seq[:, :seq_len].T:\n",
    "        assert len(np.where(aa == 1)) == 1\n",
    "        seq_aa.append(AA[aa.argmax()])\n",
    "    test_aa += seq_aa\n",
    "    \n",
    "test_aa = pd.DataFrame(test_aa, columns=['AA'])\n",
    "test_aa = test_aa.groupby('AA').aggregate(count=('AA', 'size'))\n",
    "\n",
    "plt.figure(figsize=(8, 3))\n",
    "\n",
    "plt.subplot(1, 2, 1)\n",
    "plt.title('Training set')\n",
    "plt.bar(train_aa.index, train_aa['count'], width=0.6)\n",
    "plt.grid(True, axis='y')\n",
    "\n",
    "plt.subplot(1, 2, 2)\n",
    "plt.title('Test set')\n",
    "plt.bar(test_aa.index, test_aa['count'], width=0.6)\n",
    "plt.grid(True, axis='y')\n",
    "\n",
    "plt.tight_layout()\n",
    "plt.savefig('figure/amino_acid.png', dpi=100)"
   ]
  },
  {
   "cell_type": "code",
   "execution_count": 146,
   "id": "50bd36b9-e467-4548-8436-99a9708a1b8c",
   "metadata": {},
   "outputs": [
    {
     "data": {
      "image/png": "[encoded data removed]",
      "text/plain": [
       "<Figure size 576x216 with 2 Axes>"
      ]
     },
     "metadata": {
      "needs_background": "light"
     },
     "output_type": "display_data"
    }
   ],
   "source": [
    "# 8-states Secondary Structures.\n",
    "train_ss = []\n",
    "for seq, seq_len in zip(train_y, train_seq_len):\n",
    "    seq_ss = []\n",
    "    for ss in seq[:seq_len]:\n",
    "        seq_ss += SS[int(ss)]\n",
    "    train_ss += seq_ss\n",
    "\n",
    "train_ss = pd.DataFrame(train_ss, columns=['SS'])\n",
    "train_ss = train_ss.groupby('SS').aggregate(count=('SS', 'size'))\n",
    "\n",
    "test_ss = []\n",
    "for seq, seq_len in zip(test_y, test_seq_len):\n",
    "    seq_ss = []\n",
    "    for ss in seq[:seq_len]:\n",
    "        seq_ss += SS[int(ss)]\n",
    "    test_ss += seq_ss\n",
    "\n",
    "test_ss = pd.DataFrame(test_ss, columns=['SS'])\n",
    "test_ss = test_ss.groupby('SS').aggregate(count=('SS', 'size'))\n",
    "\n",
    "plt.figure(figsize=(8, 3))\n",
    "\n",
    "plt.subplot(1, 2, 1)\n",
    "plt.title('Training set')\n",
    "plt.bar(train_ss.index, train_ss['count'], width=0.5)\n",
    "plt.grid(True, axis='y')\n",
    "\n",
    "plt.subplot(1, 2, 2)\n",
    "plt.title('Test set')\n",
    "plt.bar(test_ss.index, test_ss['count'], width=0.5)\n",
    "plt.grid(True, axis='y')\n",
    "\n",
    "plt.tight_layout()\n",
    "plt.savefig('figure/ss.png')"
   ]
  }
 ],
 "metadata": {
  "kernelspec": {
   "display_name": "Python 3 (ipykernel)",
   "language": "python",
   "name": "python3"
  },
  "language_info": {
   "codemirror_mode": {
    "name": "ipython",
    "version": 3
   },
   "file_extension": ".py",
   "mimetype": "text/x-python",
   "name": "python",
   "nbconvert_exporter": "python",
   "pygments_lexer": "ipython3",
   "version": "3.8.10"
  }
 },
 "nbformat": 4,
 "nbformat_minor": 5
}
